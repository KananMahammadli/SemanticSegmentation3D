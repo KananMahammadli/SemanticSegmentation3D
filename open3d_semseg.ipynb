{
 "cells": [
  {
   "cell_type": "code",
   "execution_count": 6,
   "id": "aeda6fc5",
   "metadata": {},
   "outputs": [],
   "source": [
    "import numpy as np\n",
    "import torch\n",
    "import torch.nn as nn\n",
    "import torch.nn.functional as F\n",
    "import matplotlib.pyplot as plt\n",
    "\n",
    "from torch.utils.data import Dataset, DataLoader\n",
    "from open3d.ml.torch.layers import SparseConv, SparseConvTranspose"
   ]
  },
  {
   "cell_type": "code",
   "execution_count": 7,
   "id": "7d7f1a9e",
   "metadata": {},
   "outputs": [],
   "source": [
    "%matplotlib inline"
   ]
  },
  {
   "cell_type": "code",
   "execution_count": 8,
   "id": "7f6cc92e",
   "metadata": {},
   "outputs": [],
   "source": [
    "data = np.load('/mnt/c/Users/user/Desktop/data.npy')"
   ]
  },
  {
   "cell_type": "code",
   "execution_count": 9,
   "id": "a350c583",
   "metadata": {},
   "outputs": [
    {
     "name": "stdout",
     "output_type": "stream",
     "text": [
      "We have 111620 samples\n"
     ]
    }
   ],
   "source": [
    "N = data.shape[0]\n",
    "print(f'We have {N} samples')"
   ]
  },
  {
   "cell_type": "code",
   "execution_count": 10,
   "id": "827a2328",
   "metadata": {},
   "outputs": [],
   "source": [
    "# converting our numpy arrays to pytorch tensors\n",
    "train_data = torch.from_numpy(data[:, :-1])\n",
    "labels = data[:, -1]\n",
    "labels = torch.from_numpy(labels).type(torch.LongTensor)"
   ]
  },
  {
   "cell_type": "code",
   "execution_count": 11,
   "id": "5e277d14",
   "metadata": {},
   "outputs": [
    {
     "name": "stdout",
     "output_type": "stream",
     "text": [
      "Number of unique labels: 12\n",
      "Unique labels are: 0 1 2 4 5 6 7 8 9 10 11 12\n"
     ]
    }
   ],
   "source": [
    "unique_labels = np.unique(labels)\n",
    "print('Number of unique labels:', unique_labels.shape[0])\n",
    "print('Unique labels are:', *unique_labels)"
   ]
  },
  {
   "cell_type": "markdown",
   "id": "5d539c3f",
   "metadata": {},
   "source": [
    "As we observe there is no sample for class 3"
   ]
  },
  {
   "cell_type": "code",
   "execution_count": 12,
   "id": "6be4457f",
   "metadata": {},
   "outputs": [],
   "source": [
    "# this is a custom class to create a dataset from our tensors to put them in data loader for batch learning\n",
    "class MyDataset(Dataset):\n",
    "    def __init__(self, data, targets, transform=None):\n",
    "        self.data = data\n",
    "        self.targets = torch.LongTensor(targets)\n",
    "        self.transform = transform\n",
    "        \n",
    "    def __getitem__(self, index):\n",
    "        x = self.data[index]\n",
    "        y = self.targets[index]\n",
    "        \n",
    "        if self.transform:\n",
    "            x = self.transform(x)\n",
    "        \n",
    "        return x, y\n",
    "    \n",
    "    def __len__(self):\n",
    "        return len(self.data)"
   ]
  },
  {
   "cell_type": "code",
   "execution_count": 13,
   "id": "e9ee976f",
   "metadata": {},
   "outputs": [],
   "source": [
    "dataset = MyDataset(train_data, labels)\n",
    "data_loader = DataLoader(dataset=dataset, batch_size=32, shuffle=True)"
   ]
  },
  {
   "cell_type": "code",
   "execution_count": 14,
   "id": "f0cbd60b",
   "metadata": {},
   "outputs": [],
   "source": [
    "# due to computation small number of filters have been used\n",
    "class SemSeg(nn.Module):\n",
    "    def __init__(self, in_ch, filters_list=[16, 32, 64], kernel_size=[3, 3, 3]):\n",
    "        super().__init__()\n",
    "        self.conv1 = SparseConv(in_channels=in_ch, filters=filters_list[0], kernel_size=kernel_size)\n",
    "        self.conv2 = SparseConv(in_channels=filters_list[0], filters=filters_list[1], kernel_size=kernel_size)\n",
    "        self.conv3 = SparseConv(in_channels=filters_list[1], filters=filters_list[2], kernel_size=kernel_size)\n",
    "        \n",
    "        self.deconv1 = SparseConvTranspose(in_channels=filters_list[2], filters=filters_list[2], kernel_size=kernel_size)\n",
    "        self.deconv2 = SparseConvTranspose(in_channels=filters_list[2], filters=filters_list[1], kernel_size=kernel_size)\n",
    "        self.deconv3 = SparseConvTranspose(in_channels=filters_list[1], filters=13, kernel_size=kernel_size)\n",
    "        \n",
    "    def forward(self, in_feat, in_pos, out_pos, voxel_size=0.02):\n",
    "        out_feat = F.relu(self.conv1(in_feat, in_pos, out_pos, voxel_size))\n",
    "        out_feat = F.relu(self.conv2(out_feat, in_pos, out_pos, voxel_size*2))\n",
    "        out_feat = F.relu(self.conv3(out_feat, in_pos, out_pos, voxel_size*4))\n",
    "        \n",
    "        out_feat = F.relu(self.deconv1(out_feat, in_pos, out_pos, voxel_size*4))\n",
    "        out_feat = F.relu(self.deconv2(out_feat, in_pos, out_pos, voxel_size*2))\n",
    "        out_feat = self.deconv3(out_feat, in_pos, out_pos, voxel_size)\n",
    "        return out_feat"
   ]
  },
  {
   "cell_type": "code",
   "execution_count": 15,
   "id": "40b075ba",
   "metadata": {},
   "outputs": [
    {
     "data": {
      "text/plain": [
       "SemSeg(\n",
       "  (conv1): SparseConv(\n",
       "    (fixed_radius_search): FixedRadiusSearch()\n",
       "  )\n",
       "  (conv2): SparseConv(\n",
       "    (fixed_radius_search): FixedRadiusSearch()\n",
       "  )\n",
       "  (conv3): SparseConv(\n",
       "    (fixed_radius_search): FixedRadiusSearch()\n",
       "  )\n",
       "  (deconv1): SparseConvTranspose(\n",
       "    (fixed_radius_search): FixedRadiusSearch()\n",
       "  )\n",
       "  (deconv2): SparseConvTranspose(\n",
       "    (fixed_radius_search): FixedRadiusSearch()\n",
       "  )\n",
       "  (deconv3): SparseConvTranspose(\n",
       "    (fixed_radius_search): FixedRadiusSearch()\n",
       "  )\n",
       ")"
      ]
     },
     "execution_count": 15,
     "metadata": {},
     "output_type": "execute_result"
    }
   ],
   "source": [
    "model =  SemSeg(3)\n",
    "model"
   ]
  },
  {
   "cell_type": "code",
   "execution_count": 16,
   "id": "6ab34be8",
   "metadata": {},
   "outputs": [],
   "source": [
    "# we use Cross Entropy Loss as our error function and Adam optimizer to update the weights\n",
    "criterion = nn.CrossEntropyLoss()\n",
    "optimizer = torch.optim.Adam(params=model.parameters(), lr=0.001)"
   ]
  },
  {
   "cell_type": "code",
   "execution_count": 17,
   "id": "97bd10c2",
   "metadata": {},
   "outputs": [
    {
     "name": "stdout",
     "output_type": "stream",
     "text": [
      "Epoch 0 batch 400 loss: 2.208 accuracy: 20.594 %\n",
      "Epoch 0 batch 800 loss: 1.960 accuracy: 24.527 %\n",
      "Epoch 0 batch 1200 loss: 2.129 accuracy: 27.336 %\n",
      "Epoch 0 batch 1600 loss: 1.540 accuracy: 30.098 %\n",
      "Epoch 0 batch 2000 loss: 1.697 accuracy: 31.989 %\n",
      "Epoch 0 batch 2400 loss: 1.921 accuracy: 33.678 %\n",
      "Epoch 0 batch 2800 loss: 1.728 accuracy: 34.792 %\n",
      "Epoch 0 batch 3200 loss: 1.601 accuracy: 35.950 %\n",
      "Epoch 1 batch 400 loss: 1.390 accuracy: 43.727 %\n",
      "Epoch 1 batch 800 loss: 1.601 accuracy: 43.887 %\n",
      "Epoch 1 batch 1200 loss: 1.482 accuracy: 44.245 %\n",
      "Epoch 1 batch 1600 loss: 1.555 accuracy: 44.250 %\n",
      "Epoch 1 batch 2000 loss: 1.722 accuracy: 44.386 %\n",
      "Epoch 1 batch 2400 loss: 1.532 accuracy: 44.617 %\n",
      "Epoch 1 batch 2800 loss: 1.548 accuracy: 44.781 %\n",
      "Epoch 1 batch 3200 loss: 1.333 accuracy: 44.891 %\n",
      "Epoch 2 batch 400 loss: 1.511 accuracy: 46.406 %\n",
      "Epoch 2 batch 800 loss: 1.694 accuracy: 46.289 %\n",
      "Epoch 2 batch 1200 loss: 1.207 accuracy: 46.242 %\n",
      "Epoch 2 batch 1600 loss: 1.511 accuracy: 46.396 %\n",
      "Epoch 2 batch 2000 loss: 1.556 accuracy: 46.666 %\n",
      "Epoch 2 batch 2400 loss: 1.538 accuracy: 46.789 %\n",
      "Epoch 2 batch 2800 loss: 1.530 accuracy: 46.907 %\n",
      "Epoch 2 batch 3200 loss: 1.465 accuracy: 46.992 %\n",
      "Epoch 3 batch 400 loss: 1.301 accuracy: 48.586 %\n",
      "Epoch 3 batch 800 loss: 1.869 accuracy: 48.840 %\n",
      "Epoch 3 batch 1200 loss: 1.632 accuracy: 48.818 %\n",
      "Epoch 3 batch 1600 loss: 1.283 accuracy: 48.955 %\n",
      "Epoch 3 batch 2000 loss: 1.408 accuracy: 49.034 %\n",
      "Epoch 3 batch 2400 loss: 1.437 accuracy: 49.267 %\n",
      "Epoch 3 batch 2800 loss: 1.177 accuracy: 49.261 %\n",
      "Epoch 3 batch 3200 loss: 1.591 accuracy: 49.418 %\n",
      "Epoch 4 batch 400 loss: 1.246 accuracy: 49.219 %\n",
      "Epoch 4 batch 800 loss: 1.639 accuracy: 49.863 %\n",
      "Epoch 4 batch 1200 loss: 1.438 accuracy: 50.094 %\n",
      "Epoch 4 batch 1600 loss: 1.359 accuracy: 50.119 %\n",
      "Epoch 4 batch 2000 loss: 1.723 accuracy: 50.073 %\n",
      "Epoch 4 batch 2400 loss: 1.283 accuracy: 50.167 %\n",
      "Epoch 4 batch 2800 loss: 1.327 accuracy: 50.228 %\n",
      "Epoch 4 batch 3200 loss: 1.127 accuracy: 50.199 %\n",
      "Epoch 5 batch 400 loss: 1.847 accuracy: 51.328 %\n",
      "Epoch 5 batch 800 loss: 1.316 accuracy: 51.078 %\n",
      "Epoch 5 batch 1200 loss: 1.285 accuracy: 50.831 %\n",
      "Epoch 5 batch 1600 loss: 1.531 accuracy: 51.010 %\n",
      "Epoch 5 batch 2000 loss: 1.276 accuracy: 51.163 %\n",
      "Epoch 5 batch 2400 loss: 1.485 accuracy: 51.129 %\n",
      "Epoch 5 batch 2800 loss: 1.409 accuracy: 51.025 %\n",
      "Epoch 5 batch 3200 loss: 1.288 accuracy: 50.976 %\n",
      "Epoch 6 batch 400 loss: 1.408 accuracy: 51.516 %\n",
      "Epoch 6 batch 800 loss: 1.291 accuracy: 51.426 %\n",
      "Epoch 6 batch 1200 loss: 1.189 accuracy: 51.143 %\n",
      "Epoch 6 batch 1600 loss: 1.804 accuracy: 51.123 %\n",
      "Epoch 6 batch 2000 loss: 1.328 accuracy: 51.159 %\n",
      "Epoch 6 batch 2400 loss: 1.260 accuracy: 51.203 %\n",
      "Epoch 6 batch 2800 loss: 1.302 accuracy: 51.331 %\n",
      "Epoch 6 batch 3200 loss: 1.658 accuracy: 51.225 %\n",
      "Epoch 7 batch 400 loss: 1.321 accuracy: 50.906 %\n",
      "Epoch 7 batch 800 loss: 1.826 accuracy: 51.090 %\n",
      "Epoch 7 batch 1200 loss: 1.611 accuracy: 51.083 %\n",
      "Epoch 7 batch 1600 loss: 1.553 accuracy: 51.492 %\n",
      "Epoch 7 batch 2000 loss: 1.276 accuracy: 51.711 %\n",
      "Epoch 7 batch 2400 loss: 1.065 accuracy: 51.724 %\n",
      "Epoch 7 batch 2800 loss: 1.530 accuracy: 51.631 %\n",
      "Epoch 7 batch 3200 loss: 1.291 accuracy: 51.566 %\n",
      "Epoch 8 batch 400 loss: 1.610 accuracy: 51.250 %\n",
      "Epoch 8 batch 800 loss: 1.337 accuracy: 51.629 %\n",
      "Epoch 8 batch 1200 loss: 1.475 accuracy: 51.581 %\n",
      "Epoch 8 batch 1600 loss: 1.218 accuracy: 51.531 %\n",
      "Epoch 8 batch 2000 loss: 1.288 accuracy: 51.522 %\n",
      "Epoch 8 batch 2400 loss: 1.341 accuracy: 51.723 %\n",
      "Epoch 8 batch 2800 loss: 1.324 accuracy: 51.748 %\n",
      "Epoch 8 batch 3200 loss: 1.520 accuracy: 51.776 %\n",
      "Epoch 9 batch 400 loss: 1.153 accuracy: 52.391 %\n",
      "Epoch 9 batch 800 loss: 1.401 accuracy: 52.148 %\n",
      "Epoch 9 batch 1200 loss: 1.155 accuracy: 52.070 %\n",
      "Epoch 9 batch 1600 loss: 1.274 accuracy: 52.004 %\n",
      "Epoch 9 batch 2000 loss: 1.241 accuracy: 52.011 %\n",
      "Epoch 9 batch 2400 loss: 1.539 accuracy: 52.100 %\n",
      "Epoch 9 batch 2800 loss: 1.502 accuracy: 52.088 %\n",
      "Epoch 9 batch 3200 loss: 1.353 accuracy: 52.121 %\n"
     ]
    }
   ],
   "source": [
    "train_loss = []\n",
    "train_acc = []\n",
    "epochs = 10\n",
    "\n",
    "for epoch in range(epochs):\n",
    "    train_corr = 0\n",
    "    for batch_idx, (X_train, y_train) in enumerate(data_loader):\n",
    "        batch_idx += 1\n",
    "        \n",
    "        # first 3 columns - x, y, z coordinates; last 3 columns - R, G, B features\n",
    "        in_pos = X_train[:, :3]\n",
    "        in_feat = X_train[:, 3:]\n",
    "        \n",
    "        # calculating the loss and adding number representing predicted correct classes for the current batch \n",
    "        y_pred = model(in_feat, in_pos, in_pos)\n",
    "        loss = criterion(y_pred, y_train)\n",
    "        \n",
    "        y_pred = torch.max(y_pred.data, 1)[1]\n",
    "        train_corr += (y_pred == y_train).sum().item()\n",
    "        \n",
    "        # backpropagation\n",
    "        optimizer.zero_grad()\n",
    "        loss.backward()\n",
    "        optimizer.step()\n",
    "        \n",
    "        # analyzing the loss and training accuracy after each 400 batch\n",
    "        if batch_idx % 400 == 0:\n",
    "            print(f\"Epoch {epoch} batch {batch_idx} loss: {loss.item():.3f} accuracy: {((train_corr / (batch_idx * 32)) * 100):.3f} %\")\n",
    "    \n",
    "    # lastly we add our final loss and training accuracy to furhter analyzing of changes over epoches\n",
    "    train_loss.append(loss.item())\n",
    "    train_acc.append(train_corr / N)"
   ]
  },
  {
   "cell_type": "code",
   "execution_count": 22,
   "id": "9b9a9570",
   "metadata": {},
   "outputs": [
    {
     "data": {
      "image/png": "[encoded data removed]",
      "text/plain": [
       "<Figure size 432x288 with 1 Axes>"
      ]
     },
     "metadata": {},
     "output_type": "display_data"
    }
   ],
   "source": [
    "# visualizing the losses over epochs\n",
    "fig1, ax1 = plt.subplots()\n",
    "fig1.patch.set_facecolor('white')\n",
    "ax1.set_title(\"Loss vs Epoch\")\n",
    "ax1.set_xlabel('Epoch')\n",
    "ax1.set_ylabel('Loss')\n",
    "ax1.plot(train_loss, label = \"train loss\")\n",
    "fig1.savefig('loss.png', dpi=300)\n",
    "plt.show();"
   ]
  },
  {
   "cell_type": "code",
   "execution_count": 24,
   "id": "20b92c6f",
   "metadata": {},
   "outputs": [
    {
     "data": {
      "image/png": "[encoded data removed]",
      "text/plain": [
       "<Figure size 432x288 with 1 Axes>"
      ]
     },
     "metadata": {},
     "output_type": "display_data"
    }
   ],
   "source": [
    "# visualizing th training accuracy over epochs\n",
    "fig2, ax2 = plt.subplots()\n",
    "fig2.patch.set_facecolor('white')\n",
    "ax2.set_title(\"Accuracy vs Epoch\")\n",
    "ax2.set_xlabel('Epoch')\n",
    "ax2.set_ylabel('Accuracy')\n",
    "ax2.plot([acc * 100 for acc in train_acc], label = \"train accuracy\")\n",
    "fig2.savefig('accuracy.png', dpi=300)\n",
    "plt.show()"
   ]
  },
  {
   "cell_type": "code",
   "execution_count": 20,
   "id": "f37d432f",
   "metadata": {},
   "outputs": [],
   "source": [
    "# predicting final results on whole data\n",
    "in_pos = train_data[:, :3]\n",
    "in_features = train_data[:, 3:]\n",
    "y_pred = model(in_features, in_pos, in_pos)\n",
    "y_pred = torch.max(y_pred, 1)[1]"
   ]
  },
  {
   "cell_type": "code",
   "execution_count": 21,
   "id": "96ac8187",
   "metadata": {},
   "outputs": [
    {
     "name": "stdout",
     "output_type": "stream",
     "text": [
      "Final Accuracy is 22.045%\n"
     ]
    }
   ],
   "source": [
    "print(f'Final Accuracy is {((y_pred == labels).sum().item() * 100 / N):.3f}%')"
   ]
  },
  {
   "cell_type": "code",
   "execution_count": null,
   "id": "fa909c59",
   "metadata": {},
   "outputs": [],
   "source": []
  }
 ],
 "metadata": {
  "kernelspec": {
   "display_name": "Python 3 (ipykernel)",
   "language": "python",
   "name": "python3"
  },
  "language_info": {
   "codemirror_mode": {
    "name": "ipython",
    "version": 3
   },
   "file_extension": ".py",
   "mimetype": "text/x-python",
   "name": "python",
   "nbconvert_exporter": "python",
   "pygments_lexer": "ipython3",
   "version": "3.8.10"
  }
 },
 "nbformat": 4,
 "nbformat_minor": 5
}
